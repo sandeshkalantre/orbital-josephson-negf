{
 "cells": [
  {
   "cell_type": "markdown",
   "metadata": {},
   "source": [
    "# Cylindrical Nanowire Hamiltonian Spectrum\n",
    "In this notebook, I will investigate the Hamiltonian of a cylindrical nanowire SNS junction. Spin-orbit coupling and Zeeman term will be assumed to be present. \n",
    "\n",
    "Consider a nanowire placed longitudinally along the z-axis. A magnetic field $B_z$ is also assumed to be present along the z-axis.\n",
    "\n",
    "$$ H_e = \\frac{p_z^2 + p_\\phi^2 + p_r^2}{2m} - \\mu + \\alpha (\\vec{\\sigma} \\times \\vec{p}) \\cdot \\hat{r} + \\frac{1}{2} g \\mu_B \\hbar B_z \\sigma_z $$"
   ]
  },
  {
   "cell_type": "code",
   "execution_count": 1,
   "metadata": {
    "collapsed": true
   },
   "outputs": [],
   "source": [
    "import numpy as np\n",
    "import matplotlib.pyplot as plt\n",
    "%matplotlib inline\n",
    "\n",
    "import itertools"
   ]
  },
  {
   "cell_type": "code",
   "execution_count": 18,
   "metadata": {
    "collapsed": true
   },
   "outputs": [],
   "source": [
    "# create the Hamiltonian matrix\n",
    "\n",
    "def calc_Hamiltonian(params):\n",
    "    '''\n",
    "    Returns the Hamiltonian in the real space basis.\n",
    "    params is a dict with the following information:\n",
    "        N_z : number of points along z\n",
    "        N_phi : number of points along azimuthal direction\n",
    "        t_z : h^2/(2 m a^2), where a is lattice spacing\n",
    "        t_phi : h^2/(2 m R^2), where a is lattice spacing\n",
    "        mu : chemical potential\n",
    "        alpha : spin orbit coupling constant*h/a\n",
    "        E_z : Zeeman splitting energy (0.5*g*mu_B*h*B_z) \n",
    "    '''\n",
    "    N_z = params['N_z']\n",
    "    N_phi = params['N_phi']\n",
    "    t_z = params['t_z']\n",
    "    t_phi = params['t_phi']\n",
    "    mu = params['mu']\n",
    "    alpha = params['alpha']\n",
    "    E_z = params['E_z']\n",
    "    flux = params['flux']\n",
    "    \n",
    "    def calc_matrix_element(x,y):\n",
    "        '''\n",
    "        Returns the matrix element between two real space points x and y\n",
    "        '''\n",
    "        (z1,phi1) = x\n",
    "        (z2,phi2) = y\n",
    "        # onsite element\n",
    "        if z1 == z2 and phi1 == phi2:\n",
    "            if N_phi != 1:\n",
    "                diag_ele = 2*t_z + np.abs(t_phi)*(2 - (2*np.pi*flux/N_phi)**2) - mu\n",
    "            else:\n",
    "                # diagonal elemenet for N_phi = 1 does not make sense\n",
    "                diag_ele = 2*t_z - mu\n",
    "            return np.array([[diag_ele + E_z,0],[0,diag_ele - E_z]])\n",
    "        # z hopping\n",
    "        elif abs(z1-z2) == 1 and phi1 == phi2:\n",
    "            return np.array([[t_z,1j*alpha],[-1j*alpha,t_z]])\n",
    "        # phi hopping\n",
    "        elif (phi1-phi2 == 1 or phi1-phi2 == N_phi-1)and z1 == z2:\n",
    "            return np.array([[-t_phi,0],[0,np.conj(t_phi)]])\n",
    "        elif (phi1-phi2 == -1 or phi1-phi2 == -N_phi+1)and z1 == z2:\n",
    "            return np.conj(np.array([[-t_phi,0],[0,np.conj(t_phi)]])).T\n",
    "        else:\n",
    "            return np.array([[0,0],[0,0]])\n",
    "    \n",
    "    basis = list(itertools.product(range(N_z),range(N_phi)))\n",
    "    H_list = [calc_matrix_element(x,y) for x in basis for y in basis]\n",
    "    N = N_phi*N_z\n",
    "    H = np.array(H_list).reshape((N,N,2,2))\n",
    "    \n",
    "    # magic to flatten the Hamiltonian\n",
    "    # Are you wathing closely?\n",
    "    H = np.array([H[x,:,y,:].flatten() for x in range(H.shape[0]) for y in range(H.shape[2])])\\\n",
    "    .flatten().reshape(2*N,2*N)\n",
    "    \n",
    "    return H\n",
    "    "
   ]
  },
  {
   "cell_type": "code",
   "execution_count": 26,
   "metadata": {},
   "outputs": [
    {
     "name": "stdout",
     "output_type": "stream",
     "text": [
      "[[0.01 +0.j 0.   +0.j 0.005+0.j 0.   +0.j]\n",
      " [0.   +0.j 0.01 +0.j 0.   -0.j 0.005+0.j]\n",
      " [0.005+0.j 0.   +0.j 0.01 +0.j 0.   +0.j]\n",
      " [0.   -0.j 0.005+0.j 0.   +0.j 0.01 +0.j]] (4, 4)\n"
     ]
    }
   ],
   "source": [
    "# test of the Hamiltonian function\n",
    "params = {\n",
    "    \"N_z\" : 2,\n",
    "    \"N_phi\" : 1,\n",
    "    \"flux\" : 0e0,\n",
    "    \"t_z\" : 5e-3,\n",
    "    \"Delta\" : 1e-3,\n",
    "    \"mu\" : 0e-3,\n",
    "    \"alpha\" : 0,\n",
    "    \"E_z\" : 0\n",
    "}\n",
    "\n",
    "params[\"t_phi\"] = 1e-3*np.exp(1j*2*np.pi*params[\"flux\"]/params[\"N_phi\"])\n",
    "\n",
    "H = calc_Hamiltonian(params)\n",
    "print(H,H.shape)"
   ]
  },
  {
   "cell_type": "markdown",
   "metadata": {},
   "source": [
    "# Notes\n",
    " - I am unsure how to incorporate the flux term in the diagonal element.\n",
    " \n",
    " \n",
    " Next step: Look at the spectrum!"
   ]
  },
  {
   "cell_type": "code",
   "execution_count": null,
   "metadata": {
    "collapsed": true
   },
   "outputs": [],
   "source": []
  }
 ],
 "metadata": {
  "kernelspec": {
   "display_name": "Python 3",
   "language": "python",
   "name": "python3"
  },
  "language_info": {
   "codemirror_mode": {
    "name": "ipython",
    "version": 3
   },
   "file_extension": ".py",
   "mimetype": "text/x-python",
   "name": "python",
   "nbconvert_exporter": "python",
   "pygments_lexer": "ipython3",
   "version": "3.5.2"
  }
 },
 "nbformat": 4,
 "nbformat_minor": 2
}
