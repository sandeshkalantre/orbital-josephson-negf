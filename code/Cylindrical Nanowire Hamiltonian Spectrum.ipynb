{
 "cells": [
  {
   "cell_type": "markdown",
   "metadata": {},
   "source": [
    "# Cylindrical Nanowire Hamiltonian Spectrum\n",
    "In this notebook, I will investigate the Hamiltonian of a cylindrical nanowire SNS junction. Spin-orbit coupling and Zeeman term will be assumed to be present. \n",
    "\n",
    "Consider a nanowire placed longitudinally along the z-axis. A magnetic field $B_z$ is also assumed to be present along the z-axis.\n",
    "\n",
    "$$ H_e = \\frac{p_z^2 + p_\\phi^2 + p_r^2}{2m} - \\mu + \\alpha (\\vec{\\sigma} \\times \\vec{p}) \\cdot \\hat{r} + \\frac{1}{2} g \\mu_B \\hbar B_z \\sigma_z $$\n",
    "\n",
    "$\\textbf{Update 4th May:\n",
    "In the intial version of code in this document, the spin-orbit and Zeeman terms will be dropped.}$"
   ]
  },
  {
   "cell_type": "code",
   "execution_count": 79,
   "metadata": {
    "collapsed": true
   },
   "outputs": [],
   "source": [
    "import numpy as np\n",
    "import matplotlib.pyplot as plt\n",
    "%matplotlib inline\n",
    "\n",
    "import itertools\n",
    "import scipy.special\n",
    "import scipy.integrate"
   ]
  },
  {
   "cell_type": "code",
   "execution_count": 2,
   "metadata": {
    "collapsed": true
   },
   "outputs": [],
   "source": [
    "# create the Hamiltonian matrix\n",
    "\n",
    "def calc_hamiltonian(params):\n",
    "    '''\n",
    "    Returns the Hamiltonian in the real space basis.\n",
    "    params is a dict with the following information:\n",
    "        N_z : number of points along z\n",
    "        N_phi : number of points along azimuthal direction\n",
    "        t_z : h^2/(2 m a^2), where a is lattice spacing\n",
    "        t_phi : h^2/(2 m R^2), where a is lattice spacing\n",
    "        mu : chemical potential\n",
    "    '''\n",
    "    N_z = params['N_z']\n",
    "    N_phi = params['N_phi']\n",
    "    t_z = params['t_z']\n",
    "    t_phi = params['t_phi']\n",
    "    mu = params['mu']\n",
    "    flux = params['flux']\n",
    "    Delta = params['Delta']\n",
    "    \n",
    "    def calc_matrix_element(x,y):\n",
    "        '''\n",
    "        Returns the matrix element between two real space points x and y\n",
    "        '''\n",
    "        (z1,phi1) = x\n",
    "        (z2,phi2) = y\n",
    "        # onsite element\n",
    "        if z1 == z2 and phi1 == phi2:\n",
    "            if N_phi != 1:\n",
    "                diag_ele = 2*t_z + np.abs(t_phi)*(2 - (2*np.pi*flux/N_phi)**2) - mu\n",
    "            else:\n",
    "                # diagonal elemenet for N_phi = 1 does not make sense\n",
    "                diag_ele = 2*t_z - mu\n",
    "            return np.array([[diag_ele,Delta],[np.conj(Delta),-diag_ele ]])\n",
    "        # z hopping\n",
    "        elif abs(z1-z2) == 1 and phi1 == phi2:\n",
    "            return np.array([[t_z,0],[0,-t_z]])\n",
    "        # phi hopping\n",
    "        elif (phi1-phi2 == 1 or phi1-phi2 == N_phi-1)and z1 == z2:\n",
    "            return np.array([[-t_phi,0],[0,np.conj(t_phi)]])\n",
    "        elif (phi1-phi2 == -1 or phi1-phi2 == -N_phi+1)and z1 == z2:\n",
    "            return np.conj(np.array([[-t_phi,0],[0,np.conj(t_phi)]])).T\n",
    "        else:\n",
    "            return np.array([[0,0],[0,0]])\n",
    "    \n",
    "    basis = list(itertools.product(range(N_z),range(N_phi)))\n",
    "    H_list = [calc_matrix_element(x,y) for x in basis for y in basis]\n",
    "    N = N_phi*N_z\n",
    "    H = np.array(H_list).reshape((N,N,2,2))\n",
    "    \n",
    "    # magic to flatten the Hamiltonian\n",
    "    # Are you wathing closely?\n",
    "    H = np.array([H[x,:,y,:].flatten() for x in range(H.shape[0]) for y in range(H.shape[2])])\\\n",
    "    .flatten().reshape(2*N,2*N)\n",
    "    \n",
    "    return H\n",
    "    "
   ]
  },
  {
   "cell_type": "code",
   "execution_count": 3,
   "metadata": {},
   "outputs": [
    {
     "name": "stdout",
     "output_type": "stream",
     "text": [
      "[[ 0.01   0.001  0.005  0.   ]\n",
      " [ 0.001 -0.01   0.    -0.005]\n",
      " [ 0.005  0.     0.01   0.001]\n",
      " [ 0.    -0.005  0.001 -0.01 ]] (4, 4)\n"
     ]
    }
   ],
   "source": [
    "# test of the Hamiltonian function\n",
    "params = {\n",
    "    \"N_z\" : 2,\n",
    "    \"N_phi\" : 1,\n",
    "    \"flux\" : 0e0,\n",
    "    \"t_z\" : 5e-3,\n",
    "    \"Delta\" : 1e-3,\n",
    "    \"mu\" : 0e-3,\n",
    "}\n",
    "\n",
    "params[\"t_phi\"] = 1e-3*np.exp(1j*2*np.pi*params[\"flux\"]/params[\"N_phi\"])\n",
    "\n",
    "H = calc_hamiltonian(params)\n",
    "print(H,H.shape)"
   ]
  },
  {
   "cell_type": "code",
   "execution_count": 4,
   "metadata": {
    "collapsed": true
   },
   "outputs": [],
   "source": [
    "# surface Green's funciton routines\n",
    "# ordinary iteration schemes will be used\n",
    "\n",
    "def calc_surface_g(E,alpha,beta,eta,eps = 1e-8,max_iter=100000,kappa=0.5):\n",
    "    '''\n",
    "    Return the surface Green's function at energy E \n",
    "   \n",
    "    eta is used to calculated the Green's function\n",
    "    eps controls the accuracy\n",
    "    \n",
    "    Returns the surface Green's function as a solution of the recursive relation \n",
    "    g = ((E + 1j*eta) - alpha - beta'*g*beta)^-1\n",
    "    '''\n",
    "    # conv here to avoid problems later\n",
    "    E = np.array(E)\n",
    "    \n",
    "    \n",
    "    def func_g(g,E,alpha,beta,eta):\n",
    "        return np.linalg.inv((E + 1j*eta).reshape(-1,1,1)*np.eye(alpha.shape[0])- alpha - beta @ g @ np.conj(beta).T)\n",
    "   \n",
    "    g0 = np.zeros((len(E),alpha.shape[0],alpha.shape[1]))\n",
    "    g = np.zeros((len(E),alpha.shape[0],alpha.shape[1]))\n",
    "    \n",
    "    err_vec = []\n",
    "    for i in range(max_iter):\n",
    "        g = func_g(g,E,alpha,beta,eta)\n",
    "        g = ((1-kappa)*g + kappa*g0)\n",
    "        err = np.linalg.norm(g - g0)/len(E)\n",
    "        err_vec.append(err)\n",
    "        g0 = np.copy(g)\n",
    "        if err < eps:\n",
    "            break\n",
    "    return g"
   ]
  },
  {
   "cell_type": "code",
   "execution_count": 5,
   "metadata": {},
   "outputs": [
    {
     "data": {
      "text/plain": [
       "<matplotlib.text.Text at 0x112738fd0>"
      ]
     },
     "execution_count": 5,
     "metadata": {},
     "output_type": "execute_result"
    },
    {
     "data": {
      "image/png": "[encoded data removed]",
      "text/plain": [
       "<matplotlib.figure.Figure at 0x1112ae748>"
      ]
     },
     "metadata": {},
     "output_type": "display_data"
    }
   ],
   "source": [
    "# testing the surface_g code\n",
    "# test of the Hamiltonian function\n",
    "params = {\n",
    "    \"N_z\" : 10,\n",
    "    \"N_phi\" : 1,\n",
    "    \"flux\" : 0e0,\n",
    "    \"t_z\" : 1000e-3,\n",
    "    \"Delta\" : 1e-3,\n",
    "    \"mu\" : 100e-3,\n",
    "}\n",
    "\n",
    "params[\"t_phi\"] = 0e-3*np.exp(1j*2*np.pi*params[\"flux\"]/params[\"N_phi\"])\n",
    "\n",
    "\n",
    "H = calc_hamiltonian(params)\n",
    "surface_dof = 2*params['N_phi']\n",
    "alpha = H[:surface_dof,:surface_dof]\n",
    "beta = H[:surface_dof,surface_dof:2*surface_dof]\n",
    "\n",
    "E = np.linspace(-20e-3,20e-3,1000)\n",
    "eta = 0.1*np.abs(E[1]-E[0])\n",
    "g = calc_surface_g(E,alpha,beta,eta)\n",
    "a = 1j*(g - np.conj(np.transpose(g,(0,2,1))))\n",
    "dos = np.real(np.trace(a,axis1=-1,axis2=-2))\n",
    "\n",
    "plt.plot(E,dos)\n",
    "plt.xlabel(\"Energy\")\n",
    "plt.ylabel(\"Surface Density of States\")"
   ]
  },
  {
   "cell_type": "code",
   "execution_count": 67,
   "metadata": {},
   "outputs": [],
   "source": [
    "def calc_sns_negf(E,params):\n",
    "    '''\n",
    "    Returns the G,A,Sigma matrices for SNS device. The chemical potential will be assumed to same everywhere and\n",
    "    no bias is present across the device.\n",
    "    params dict takes in these parameters:\n",
    "        N_z : number of points along z in the normal region\n",
    "        N_phi : number of points along azimuthal direction\n",
    "        t_z : h^2/(2 m a^2), where a is lattice spacing\n",
    "        t_phi : h^2/(2 m R^2), where a is lattice spacing\n",
    "        mu : chemical potential\n",
    "        Delta_1 : superconducting parameter 1\n",
    "        Delta_2 : superconducting parameter 2\n",
    "        eta : imaginary 0+ added for convergence\n",
    "    '''\n",
    "    N_z = params['N_z']\n",
    "    N_phi = params['N_phi']\n",
    "    t_z = params['t_z']\n",
    "    t_phi = params['t_phi']\n",
    "    Delta_1 = params['Delta_1']\n",
    "    Delta_2 = params['Delta_2']\n",
    "    mu = params['mu']\n",
    "    eta = params['eta']\n",
    "    flux = params['flux']\n",
    "    kT = params['kT']\n",
    "    \n",
    "    # create alpha/beta hamiltonians for S regions\n",
    "    # calc surface Green's function\n",
    "   \n",
    "    params_S1 = {'t_z' : t_z,'t_phi' : t_phi,'N_z' : N_z,\"N_phi\" : N_phi, \"Delta\" : Delta_1, \"mu\" : mu,\"flux\" : flux}\n",
    "    H_S1 = calc_hamiltonian(params_S1)   \n",
    "    surface_dof = 2*N_phi\n",
    "    alpha_1 = H_S1[:surface_dof,:surface_dof]\n",
    "    beta_1 = H_S1[:surface_dof,surface_dof:2*surface_dof]\n",
    "    g_1 = calc_surface_g(E,alpha_1,beta_1,eta)\n",
    "    \n",
    "    params_S2 = {'t_z' : t_z,'t_phi' : t_phi,'N_z' : N_z,\"N_phi\" : N_phi, \"Delta\" : Delta_2, \"mu\" : mu,\"flux\" : flux}\n",
    "    H_S2 = calc_hamiltonian(params_S2)   \n",
    "    surface_dof = 2*N_phi\n",
    "    alpha_2 = H_S2[:surface_dof,:surface_dof]\n",
    "    beta_2 = H_S2[:surface_dof,surface_dof:2*surface_dof]\n",
    "    g_2 = calc_surface_g(E,alpha_2,beta_2,eta)\n",
    "    \n",
    "    \n",
    "    # create Hamiltonian for N region\n",
    "    params_N = {'t_z' : t_z,'t_phi' : t_phi,'N_z' : N_z,\"N_phi\" : N_phi, \"Delta\" : 0, \"mu\" : mu,\"flux\" : flux}\n",
    "    H_mat = calc_hamiltonian(params_N)\n",
    "    \n",
    "    #number of dof in a layer\n",
    "    N_dof_lat = N_phi*2\n",
    "    # the hopping element between layers\n",
    "    beta_layer = H_mat[:N_dof_lat,N_dof_lat:2*N_dof_lat]\n",
    "    \n",
    "    # the only non-zero elements in sigma\n",
    "    sigma_mini_1 = np.conj(np.transpose(beta_layer[np.newaxis,:,:],(0,2,1)))@g_1@beta_layer\n",
    "    sigma_mini_2 = np.conj(np.transpose(beta_layer[np.newaxis,:,:],(0,2,1)))@g_2@beta_layer\n",
    "    \n",
    "    sigma_1 = np.zeros((len(E),H_mat.shape[0],H_mat.shape[1]),dtype=np.complex64)\n",
    "    sigma_1[:,:N_dof_lat,:N_dof_lat] = sigma_mini_1\n",
    "    gamma_1 = 1j*(sigma_1 - np.transpose(np.conj(sigma_1),(0,2,1)))\n",
    "    \n",
    "    sigma_2 = np.zeros((len(E),H_mat.shape[0],H_mat.shape[1]),dtype=np.complex64)\n",
    "    sigma_2[:,-N_dof_lat:,-N_dof_lat:] = sigma_mini_2\n",
    "    gamma_2 = 1j*(sigma_2 - np.transpose(np.conj(sigma_2),(0,2,1)))\n",
    "    \n",
    "    # NEGF matrices\n",
    "    G = np.linalg.inv((E + 1j*eta).reshape(-1,1,1)*np.eye(H_mat.shape[0]) - H_mat - sigma_1 - sigma_2)\n",
    "    \n",
    "    A = 1j*(G - np.transpose(np.conj(G),(0,2,1))) \n",
    "    dos = np.real(np.trace(A,axis1=-2,axis2=-1))\n",
    "    \n",
    "    def fermi(E,kT):\n",
    "        return scipy.special.expit(-E/kT)\n",
    "    \n",
    "    def generate_fermi_matrix(E,mu,kT):\n",
    "        return np.array([[[fermi(ele - mu,kT),0],[0,fermi(ele + mu,kT)]] for ele in E])\n",
    "        \n",
    "    F1 = np.kron(np.eye(N_phi*N_z),generate_fermi_matrix(E,mu-mu,kT))\n",
    "    F2 = np.kron(np.eye(N_phi*N_z),generate_fermi_matrix(E,mu-mu,kT))\n",
    "    sigma_in = np.matmul(gamma_1,F1) + np.matmul(gamma_2,F2)\n",
    "    \n",
    "    G_n = np.matmul(G,np.matmul(sigma_in,np.transpose(np.conj(G),(0,2,1))))\n",
    "    \n",
    "    #I_mat = 1j*(np.matmul(G_n[:N_dof_lat,N_dof_lat:2*N_dof_lat],beta_layer) \\\n",
    "    #         - np.matmul(G_n[N_dof_lat:2*N_dof_lat,:N_dof_lat],beta_layer))\n",
    "    I_mat = 1j*(np.matmul(H_mat,G_n) - np.matmul(G_n,H_mat))\n",
    "    # current = electron current - hole current\n",
    "    I = np.real(np.trace(I_mat[:,0:2*N_phi:2,0:2*N_phi:2]-I_mat[:,1:2*N_phi:2,1:2*N_phi:2],axis1=-1,axis2=-2))\n",
    "    \n",
    "    return G,A,dos,I"
   ]
  },
  {
   "cell_type": "code",
   "execution_count": 70,
   "metadata": {},
   "outputs": [
    {
     "name": "stdout",
     "output_type": "stream",
     "text": [
      "[ 4.58087422e-02  5.39709642e-02  6.41189792e-02  7.69132661e-02\n",
      "  9.33063665e-02  1.14709400e-01  1.43282677e-01  1.82461143e-01\n",
      "  2.37963041e-01  3.19853708e-01  4.47124477e-01  6.58876704e-01\n",
      "  1.04475111e+00  1.84194177e+00  3.83700979e+00  9.90834225e+00\n",
      "  1.68799475e+01  7.42925716e+00  3.01510581e+00  1.50216303e+00\n",
      "  8.51453048e-01  5.12765943e-01  3.07796513e-01  1.65675876e-01\n",
      "  5.15425788e-02 -8.70032759e-04 -7.96833638e-07 -4.21804300e-10\n",
      " -2.00219053e-13 -9.47296340e-17 -4.76190960e-20 -2.72336317e-23\n",
      " -1.91199748e-26 -1.23780417e-29 -2.07024036e-33 -2.28429191e-37\n",
      " -3.12444953e-41 -5.04951170e-45 -9.07359971e-49 -1.75445742e-52\n",
      " -3.57605920e-56 -7.58056791e-60 -1.65615717e-63 -3.70564461e-67\n",
      " -8.45294440e-71 -1.95911173e-74 -4.60138003e-78 -1.09298040e-81\n",
      " -2.62134916e-85 -6.33945592e-89]\n"
     ]
    }
   ],
   "source": [
    "# testing the dos code\n",
    "params = {\n",
    "    \"N_z\" : 2,\n",
    "    \"N_phi\" : 1,\n",
    "    \"flux\" : 0e0,\n",
    "    \"t_z\" : 1000e-3,\n",
    "    \"Delta_1\" : 1e-3,\n",
    "    \"Delta_2\" : 1e-3*np.exp(1j*np.pi/2),\n",
    "    \"mu\" : 100e-3,\n",
    "    \"kT\" : 1e-5,\n",
    "}\n",
    "\n",
    "params[\"t_phi\"] = 5e-3*np.exp(1j*2*np.pi*params[\"flux\"]/params[\"N_phi\"])\n",
    "E_vec = np.linspace(-2e-3,2e-3,50)\n",
    "params['eta'] = np.abs(E_vec[1] - E_vec[0])\n",
    "\n",
    "G,A,dos,I = calc_sns_negf(E_vec,params)\n",
    "print(I)"
   ]
  },
  {
   "cell_type": "code",
   "execution_count": 71,
   "metadata": {},
   "outputs": [
    {
     "data": {
      "text/plain": [
       "[<matplotlib.lines.Line2D at 0x11856fa58>]"
      ]
     },
     "execution_count": 71,
     "metadata": {},
     "output_type": "execute_result"
    },
    {
     "data": {
      "image/png": "[encoded data removed]",
      "text/plain": [
       "<matplotlib.figure.Figure at 0x117b3ffd0>"
      ]
     },
     "metadata": {},
     "output_type": "display_data"
    }
   ],
   "source": [
    "plt.plot(E_vec,dos)"
   ]
  },
  {
   "cell_type": "code",
   "execution_count": 72,
   "metadata": {},
   "outputs": [
    {
     "data": {
      "text/plain": [
       "[<matplotlib.lines.Line2D at 0x116a51eb8>]"
      ]
     },
     "execution_count": 72,
     "metadata": {},
     "output_type": "execute_result"
    },
    {
     "data": {
      "image/png": "[encoded data removed]",
      "text/plain": [
       "<matplotlib.figure.Figure at 0x117ead780>"
      ]
     },
     "metadata": {},
     "output_type": "display_data"
    }
   ],
   "source": [
    "plt.plot(E_vec,I)"
   ]
  },
  {
   "cell_type": "markdown",
   "metadata": {},
   "source": [
    "## Dos vs phase map"
   ]
  },
  {
   "cell_type": "code",
   "execution_count": 75,
   "metadata": {},
   "outputs": [],
   "source": [
    "# testing the dos code\n",
    "params = {\n",
    "    \"N_z\" : 2,\n",
    "    \"N_phi\" : 1,\n",
    "    \"flux\" : 0e0,\n",
    "    \"t_z\" : 1000e-3,\n",
    "    \"Delta_1\" : 1e-3,\n",
    "    \"Delta_2\" : 1e-3,\n",
    "    \"mu\" : 100e-3,\n",
    "    \"kT\" : 1e-5,\n",
    "}\n",
    "params[\"t_phi\"] = 5e-3*np.exp(1j*2*np.pi*params[\"flux\"]/params[\"N_phi\"])\n",
    "E_vec = np.linspace(-2e-3,2e-3,100)\n",
    "params['eta'] = np.abs(E_vec[1] - E_vec[0])\n",
    "\n",
    "dos_arr = []\n",
    "I_arr = []\n",
    "phi_vec = np.linspace(0,2*np.pi,100)\n",
    "for phi in phi_vec:\n",
    "    params['Delta_2'] = params['Delta_1']*np.exp(1j*phi)\n",
    "    G,A,dos,I = calc_sns_negf(E_vec,params)\n",
    "    dos_arr.append(dos)\n",
    "    I_arr.append(I)"
   ]
  },
  {
   "cell_type": "code",
   "execution_count": 76,
   "metadata": {},
   "outputs": [
    {
     "data": {
      "text/plain": [
       "<matplotlib.collections.PolyCollection at 0x1206b1320>"
      ]
     },
     "execution_count": 76,
     "metadata": {},
     "output_type": "execute_result"
    },
    {
     "data": {
      "image/png": "[encoded data removed]",
      "text/plain": [
       "<matplotlib.figure.Figure at 0x118932668>"
      ]
     },
     "metadata": {},
     "output_type": "display_data"
    }
   ],
   "source": [
    "dos_arr = np.array(dos_arr).T\n",
    "XX,YY = np.meshgrid(phi_vec,E_vec)\n",
    "plt.pcolor(XX,YY,dos_arr)"
   ]
  },
  {
   "cell_type": "code",
   "execution_count": 77,
   "metadata": {},
   "outputs": [
    {
     "data": {
      "text/plain": [
       "<matplotlib.collections.PolyCollection at 0x10f891cc0>"
      ]
     },
     "execution_count": 77,
     "metadata": {},
     "output_type": "execute_result"
    },
    {
     "data": {
      "image/png": "[encoded data removed]",
      "text/plain": [
       "<matplotlib.figure.Figure at 0x117eade80>"
      ]
     },
     "metadata": {},
     "output_type": "display_data"
    }
   ],
   "source": [
    "# DOS vs current map\n",
    "I_arr = np.array(I_arr).T\n",
    "XX,YY = np.meshgrid(phi_vec,E_vec)\n",
    "plt.pcolor(XX,YY,I_arr)"
   ]
  },
  {
   "cell_type": "code",
   "execution_count": 78,
   "metadata": {
    "collapsed": true
   },
   "outputs": [],
   "source": [
    "## Current phase"
   ]
  },
  {
   "cell_type": "code",
   "execution_count": 87,
   "metadata": {},
   "outputs": [],
   "source": [
    "def integrate_current(E_vec,I_vec):\n",
    "    return scipy.integrate.simps(I_vec,E_vec) \n",
    "\n",
    "def calc_I_phi(params,E_vec,phi_vec):\n",
    "    I_phi = []\n",
    "    for phi in phi_vec:\n",
    "        params['Delta_2'] = params['Delta_1']*np.exp(1j*phi)\n",
    "        G,A,dos,I = calc_sns_negf(E_vec,params)\n",
    "        I_phi.append(integrate_current(E_vec,I))\n",
    "    I_phi = np.array(I_phi)\n",
    "    return I_phi"
   ]
  },
  {
   "cell_type": "code",
   "execution_count": 130,
   "metadata": {},
   "outputs": [],
   "source": [
    "# testing the dos code\n",
    "params = {\n",
    "    \"N_z\" : 2,\n",
    "    \"N_phi\" : 1,\n",
    "    \"flux\" : 0e0,\n",
    "    \"t_z\" : 1000e-3,\n",
    "    \"Delta_1\" : 1e-3,\n",
    "    \"Delta_2\" : 1e-3,\n",
    "    \"mu\" : 0e-3,\n",
    "    \"kT\" : 1e-5,\n",
    "}\n",
    "params[\"t_phi\"] = 5e-3*np.exp(1j*2*np.pi*params[\"flux\"]/params[\"N_phi\"])\n",
    "E_vec = np.linspace(-2e-3,2e-3,100)\n",
    "phi_vec = np.linspace(0,2*np.pi,100)\n",
    "params['eta'] = np.abs(E_vec[1] - E_vec[0])\n",
    "\n",
    "I_phi = calc_I_phi(params,E_vec,phi_vec)"
   ]
  },
  {
   "cell_type": "code",
   "execution_count": 131,
   "metadata": {},
   "outputs": [
    {
     "data": {
      "text/plain": [
       "[<matplotlib.lines.Line2D at 0x117a5def0>]"
      ]
     },
     "execution_count": 131,
     "metadata": {},
     "output_type": "execute_result"
    },
    {
     "data": {
      "image/png": "[encoded data removed]",
      "text/plain": [
       "<matplotlib.figure.Figure at 0x1178e4ba8>"
      ]
     },
     "metadata": {},
     "output_type": "display_data"
    }
   ],
   "source": [
    "plt.plot(phi_vec,I_phi)"
   ]
  },
  {
   "cell_type": "markdown",
   "metadata": {},
   "source": [
    "## Study of current phase relation with changing chemical potential"
   ]
  },
  {
   "cell_type": "code",
   "execution_count": 91,
   "metadata": {},
   "outputs": [
    {
     "name": "stdout",
     "output_type": "stream",
     "text": [
      "0.01\n",
      "0.01090909090909091\n",
      "0.011818181818181818\n",
      "0.012727272727272728\n",
      "0.013636363636363637\n",
      "0.014545454545454545\n",
      "0.015454545454545455\n",
      "0.016363636363636365\n",
      "0.017272727272727273\n",
      "0.01818181818181818\n",
      "0.019090909090909092\n",
      "0.020000000000000004\n",
      "0.020909090909090912\n",
      "0.02181818181818182\n",
      "0.022727272727272728\n",
      "0.023636363636363636\n",
      "0.024545454545454547\n",
      "0.02545454545454546\n",
      "0.026363636363636367\n",
      "0.027272727272727275\n",
      "0.028181818181818183\n",
      "0.02909090909090909\n",
      "0.030000000000000006\n",
      "0.030909090909090914\n",
      "0.03181818181818182\n",
      "0.03272727272727273\n",
      "0.03363636363636364\n",
      "0.034545454545454546\n",
      "0.03545454545454546\n",
      "0.03636363636363637\n",
      "0.03727272727272728\n",
      "0.038181818181818185\n",
      "0.03909090909090909\n",
      "0.04\n",
      "0.040909090909090916\n",
      "0.041818181818181824\n",
      "0.04272727272727273\n",
      "0.04363636363636364\n",
      "0.044545454545454555\n",
      "0.04545454545454546\n",
      "0.04636363636363637\n",
      "0.04727272727272728\n",
      "0.04818181818181819\n",
      "0.049090909090909095\n",
      "0.05000000000000001\n",
      "0.05090909090909092\n",
      "0.051818181818181826\n",
      "0.052727272727272734\n",
      "0.05363636363636364\n",
      "0.05454545454545455\n",
      "0.055454545454545465\n",
      "0.05636363636363637\n",
      "0.05727272727272728\n",
      "0.05818181818181819\n",
      "0.0590909090909091\n",
      "0.060000000000000005\n",
      "0.06090909090909092\n",
      "0.06181818181818183\n",
      "0.06272727272727273\n",
      "0.06363636363636364\n",
      "0.06454545454545454\n",
      "0.06545454545454546\n",
      "0.06636363636363637\n",
      "0.06727272727272728\n",
      "0.06818181818181819\n",
      "0.06909090909090909\n",
      "0.07\n",
      "0.07090909090909092\n",
      "0.07181818181818182\n",
      "0.07272727272727272\n",
      "0.07363636363636364\n",
      "0.07454545454545455\n",
      "0.07545454545454545\n",
      "0.07636363636363637\n",
      "0.07727272727272727\n",
      "0.07818181818181819\n",
      "0.0790909090909091\n",
      "0.08\n",
      "0.08090909090909092\n",
      "0.08181818181818182\n",
      "0.08272727272727273\n",
      "0.08363636363636363\n",
      "0.08454545454545455\n",
      "0.08545454545454546\n",
      "0.08636363636363636\n",
      "0.08727272727272728\n",
      "0.08818181818181818\n",
      "0.0890909090909091\n",
      "0.09000000000000001\n",
      "0.09090909090909091\n",
      "0.09181818181818183\n",
      "0.09272727272727273\n",
      "0.09363636363636364\n",
      "0.09454545454545454\n",
      "0.09545454545454546\n",
      "0.09636363636363637\n",
      "0.09727272727272727\n",
      "0.09818181818181819\n",
      "0.09909090909090909\n",
      "0.1\n"
     ]
    }
   ],
   "source": [
    "params = {\n",
    "    \"N_z\" : 2,\n",
    "    \"N_phi\" : 1,\n",
    "    \"flux\" : 0e0,\n",
    "    \"t_z\" : 1000e-3,\n",
    "    \"Delta_1\" : 1e-3,\n",
    "    \"Delta_2\" : 1e-3,\n",
    "    \"mu\" : 100e-3,\n",
    "    \"kT\" : 1e-5,\n",
    "}\n",
    "params[\"t_phi\"] = 5e-3*np.exp(1j*2*np.pi*params[\"flux\"]/params[\"N_phi\"])\n",
    "E_vec = np.linspace(-2e-3,2e-3,100)\n",
    "phi_vec = np.linspace(0,2*np.pi,100)\n",
    "params['eta'] = np.abs(E_vec[1] - E_vec[0])\n",
    "\n",
    "mu_vec = np.linspace(10e-3,100e-3,100)\n",
    "I_arr = []\n",
    "for mu in mu_vec:\n",
    "    print(mu)\n",
    "    params['mu'] = mu\n",
    "    I_arr.append(calc_I_phi(params,E_vec,phi_vec))\n",
    "I_arr = np.array(I_arr)"
   ]
  },
  {
   "cell_type": "code",
   "execution_count": 114,
   "metadata": {},
   "outputs": [
    {
     "data": {
      "text/plain": [
       "<matplotlib.text.Text at 0x1157c0be0>"
      ]
     },
     "execution_count": 114,
     "metadata": {},
     "output_type": "execute_result"
    },
    {
     "data": {
      "image/png": "[encoded data removed]",
      "text/plain": [
       "<matplotlib.figure.Figure at 0x11578d198>"
      ]
     },
     "metadata": {},
     "output_type": "display_data"
    }
   ],
   "source": [
    "XX,YY = np.meshgrid(phi_vec,mu_vec)\n",
    "plt.pcolor(XX,YY,I_arr)\n",
    "plt.xlabel(r\"$\\phi$\")\n",
    "plt.ylabel(r\"$\\mu$\")\n",
    "plt.title(\"Current-Phase vs $\\mu$\")"
   ]
  },
  {
   "cell_type": "code",
   "execution_count": 129,
   "metadata": {
    "scrolled": true
   },
   "outputs": [
    {
     "data": {
      "text/plain": [
       "[<matplotlib.lines.Line2D at 0x11798f3c8>]"
      ]
     },
     "execution_count": 129,
     "metadata": {},
     "output_type": "execute_result"
    },
    {
     "data": {
      "image/png": "[encoded data removed]",
      "text/plain": [
       "<matplotlib.figure.Figure at 0x117836400>"
      ]
     },
     "metadata": {},
     "output_type": "display_data"
    }
   ],
   "source": [
    "plt.plot(np.sqrt(100e-3 - mu_vec),np.max(I_arr,axis=1))"
   ]
  },
  {
   "cell_type": "code",
   "execution_count": null,
   "metadata": {
    "collapsed": true
   },
   "outputs": [],
   "source": []
  },
  {
   "cell_type": "markdown",
   "metadata": {},
   "source": [
    "# Notes\n",
    " - I am unsure how to incorporate the flux term in the diagonal element.\n",
    " - The spectrum is too slow to compute with finite-cross section, this looks like a design flaw\n",
    " - Are $l \\neq 0$ states different in energies from $l = 0$ states in the absence of a B field?\n",
    " - How do l states evolve as a function of $\\mu$? More importantly, what the right chemical potential so that only $l = 0,1$ are populated?\n",
    " - The current phase relationship does not change as a function of $\\mu$. Since adding a B-field to a 1D nanowire only chnages $\\mu$, I do not expect to see any change as a function of B.\n",
    " \n",
    " **Observation** : Low $\\mu$ is hard to converge. I don't know why?"
   ]
  },
  {
   "cell_type": "code",
   "execution_count": null,
   "metadata": {
    "collapsed": true
   },
   "outputs": [],
   "source": []
  },
  {
   "cell_type": "markdown",
   "metadata": {
    "collapsed": true
   },
   "source": [
    "# Intersting Asides\n",
    "1. Visualisation of surface density of states in $\\mu$-$\\Delta$ space. I see that for $t \\gg \\mu \\gg \\Delta$, the dos outside the gap is almost flat. "
   ]
  },
  {
   "cell_type": "code",
   "execution_count": 43,
   "metadata": {
    "collapsed": true
   },
   "outputs": [],
   "source": [
    "params = {\n",
    "    \"N_z\" : 10,\n",
    "    \"N_phi\" : 1,\n",
    "    \"flux\" : 0e0,\n",
    "    \"t_z\" : 1000e-3,\n",
    "    \"Delta\" : 1e-3,\n",
    "    \"mu\" : 100e-3,\n",
    "}\n",
    "\n",
    "params[\"t_phi\"] = 0e-3*np.exp(1j*2*np.pi*params[\"flux\"]/params[\"N_phi\"])\n",
    "\n",
    "E = np.linspace(-10e-3,10e-3,1000)\n",
    "eta = 0.1*np.abs(E[1]-E[0])\n",
    "\n",
    "mu_vec = np.linspace(0,100e-3,25) \n",
    "data = []\n",
    "for mu in mu_vec:\n",
    "    params['mu'] = mu\n",
    "    \n",
    "    H = calc_hamiltonian(params)\n",
    "    surface_dof = 2*params['N_phi']\n",
    "    alpha = H[:surface_dof,:surface_dof]\n",
    "    beta = H[:surface_dof,surface_dof:2*surface_dof]\n",
    "    \n",
    "    g = calc_surface_g(E,alpha,beta,eta)\n",
    "    a = 1j*(g - np.conj(np.transpose(g,(0,2,1))))\n",
    "    dos = np.real(np.trace(a,axis1=-1,axis2=-2))\n",
    "\n",
    "    data.append(dos)\n",
    "data = np.array(data)"
   ]
  },
  {
   "cell_type": "code",
   "execution_count": 44,
   "metadata": {},
   "outputs": [
    {
     "data": {
      "text/plain": [
       "<matplotlib.text.Text at 0x108cd6898>"
      ]
     },
     "execution_count": 44,
     "metadata": {},
     "output_type": "execute_result"
    },
    {
     "data": {
      "image/png": "[encoded data removed]",
      "text/plain": [
       "<matplotlib.figure.Figure at 0x108c15e80>"
      ]
     },
     "metadata": {},
     "output_type": "display_data"
    }
   ],
   "source": [
    "XX,YY = np.meshgrid(E,mu_vec)\n",
    "plt.pcolor(XX,YY,data)\n",
    "plt.xlabel(\"Energy\")\n",
    "plt.ylabel(\"Chemical potential\")"
   ]
  },
  {
   "cell_type": "code",
   "execution_count": 46,
   "metadata": {},
   "outputs": [
    {
     "name": "stdout",
     "output_type": "stream",
     "text": [
      "[[ 1.  0.  0.  0.]\n",
      " [ 0. -1.  0. -0.]\n",
      " [ 0.  0.  1.  0.]\n",
      " [ 0. -0.  0. -1.]]\n"
     ]
    }
   ],
   "source": [
    "a = np.eye(2)\n",
    "\n",
    "def f():\n",
    "    return np.array([[1,0],[0,-1]])\n",
    "\n",
    "print(np.kron(a,f()))"
   ]
  },
  {
   "cell_type": "code",
   "execution_count": null,
   "metadata": {
    "collapsed": true
   },
   "outputs": [],
   "source": []
  },
  {
   "cell_type": "code",
   "execution_count": null,
   "metadata": {
    "collapsed": true
   },
   "outputs": [],
   "source": []
  }
 ],
 "metadata": {
  "kernelspec": {
   "display_name": "Python 3",
   "language": "python",
   "name": "python3"
  },
  "language_info": {
   "codemirror_mode": {
    "name": "ipython",
    "version": 3
   },
   "file_extension": ".py",
   "mimetype": "text/x-python",
   "name": "python",
   "nbconvert_exporter": "python",
   "pygments_lexer": "ipython3",
   "version": "3.5.2"
  }
 },
 "nbformat": 4,
 "nbformat_minor": 2
}
