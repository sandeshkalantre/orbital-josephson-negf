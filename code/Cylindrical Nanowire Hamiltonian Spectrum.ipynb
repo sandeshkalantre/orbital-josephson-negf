{
 "cells": [
  {
   "cell_type": "markdown",
   "metadata": {},
   "source": [
    "# Cylindrical Nanowire Hamiltonian Spectrum\n",
    "In this notebook, I will investigate the Hamiltonian of a cylindrical nanowire SNS junction. Spin-orbit coupling and Zeeman term will be assumed to be present. \n",
    "\n",
    "Consider a nanowire placed longitudinally along the z-axis. A magnetic field $B_z$ is also assumed to be present along the z-axis.\n",
    "\n",
    "$$ H_e = \\frac{p_z^2 + p_\\phi^2 + p_r^2}{2m} - \\mu + \\alpha (\\vec{\\sigma} \\times \\vec{p}) \\cdot \\hat{r} + \\frac{1}{2} g \\mu_B \\hbar B_z \\sigma_z $$\n",
    "\n",
    "$\\textbf{Update 4th May:\n",
    "In the intial version of code in this document, the spin-orbit and Zeeman terms will be dropped.}$"
   ]
  },
  {
   "cell_type": "code",
   "execution_count": 3,
   "metadata": {
    "collapsed": true
   },
   "outputs": [],
   "source": [
    "import numpy as np\n",
    "import matplotlib.pyplot as plt\n",
    "%matplotlib inline\n",
    "\n",
    "import itertools"
   ]
  },
  {
   "cell_type": "code",
   "execution_count": 12,
   "metadata": {
    "collapsed": true
   },
   "outputs": [],
   "source": [
    "# create the Hamiltonian matrix\n",
    "\n",
    "def calc_hamiltonian(params):\n",
    "    '''\n",
    "    Returns the Hamiltonian in the real space basis.\n",
    "    params is a dict with the following information:\n",
    "        N_z : number of points along z\n",
    "        N_phi : number of points along azimuthal direction\n",
    "        t_z : h^2/(2 m a^2), where a is lattice spacing\n",
    "        t_phi : h^2/(2 m R^2), where a is lattice spacing\n",
    "        mu : chemical potential\n",
    "    '''\n",
    "    N_z = params['N_z']\n",
    "    N_phi = params['N_phi']\n",
    "    t_z = params['t_z']\n",
    "    t_phi = params['t_phi']\n",
    "    mu = params['mu']\n",
    "    flux = params['flux']\n",
    "    Delta = params['Delta']\n",
    "    \n",
    "    def calc_matrix_element(x,y):\n",
    "        '''\n",
    "        Returns the matrix element between two real space points x and y\n",
    "        '''\n",
    "        (z1,phi1) = x\n",
    "        (z2,phi2) = y\n",
    "        # onsite element\n",
    "        if z1 == z2 and phi1 == phi2:\n",
    "            if N_phi != 1:\n",
    "                diag_ele = 2*t_z + np.abs(t_phi)*(2 - (2*np.pi*flux/N_phi)**2) - mu\n",
    "            else:\n",
    "                # diagonal elemenet for N_phi = 1 does not make sense\n",
    "                diag_ele = 2*t_z - mu\n",
    "            return np.array([[diag_ele,Delta],[np.conj(Delta),-diag_ele ]])\n",
    "        # z hopping\n",
    "        elif abs(z1-z2) == 1 and phi1 == phi2:\n",
    "            return np.array([[t_z,0],[0,-t_z]])\n",
    "        # phi hopping\n",
    "        elif (phi1-phi2 == 1 or phi1-phi2 == N_phi-1)and z1 == z2:\n",
    "            return np.array([[-t_phi,0],[0,np.conj(t_phi)]])\n",
    "        elif (phi1-phi2 == -1 or phi1-phi2 == -N_phi+1)and z1 == z2:\n",
    "            return np.conj(np.array([[-t_phi,0],[0,np.conj(t_phi)]])).T\n",
    "        else:\n",
    "            return np.array([[0,0],[0,0]])\n",
    "    \n",
    "    basis = list(itertools.product(range(N_z),range(N_phi)))\n",
    "    H_list = [calc_matrix_element(x,y) for x in basis for y in basis]\n",
    "    N = N_phi*N_z\n",
    "    H = np.array(H_list).reshape((N,N,2,2))\n",
    "    \n",
    "    # magic to flatten the Hamiltonian\n",
    "    # Are you wathing closely?\n",
    "    H = np.array([H[x,:,y,:].flatten() for x in range(H.shape[0]) for y in range(H.shape[2])])\\\n",
    "    .flatten().reshape(2*N,2*N)\n",
    "    \n",
    "    return H\n",
    "    "
   ]
  },
  {
   "cell_type": "code",
   "execution_count": 14,
   "metadata": {},
   "outputs": [
    {
     "name": "stdout",
     "output_type": "stream",
     "text": [
      "[[ 0.01   0.001  0.005  0.   ]\n",
      " [ 0.001 -0.01   0.    -0.005]\n",
      " [ 0.005  0.     0.01   0.001]\n",
      " [ 0.    -0.005  0.001 -0.01 ]] (4, 4)\n"
     ]
    }
   ],
   "source": [
    "# test of the Hamiltonian function\n",
    "params = {\n",
    "    \"N_z\" : 2,\n",
    "    \"N_phi\" : 1,\n",
    "    \"flux\" : 0e0,\n",
    "    \"t_z\" : 5e-3,\n",
    "    \"Delta\" : 1e-3,\n",
    "    \"mu\" : 0e-3,\n",
    "}\n",
    "\n",
    "params[\"t_phi\"] = 1e-3*np.exp(1j*2*np.pi*params[\"flux\"]/params[\"N_phi\"])\n",
    "\n",
    "H = calc_hamiltonian(params)\n",
    "print(H,H.shape)"
   ]
  },
  {
   "cell_type": "code",
   "execution_count": 18,
   "metadata": {
    "collapsed": true
   },
   "outputs": [],
   "source": [
    "# surface Green's funciton routines\n",
    "# ordinary iteration schemes will be used\n",
    "\n",
    "def calc_surface_g(E,alpha,beta,eta,eps = 1e-8,max_iter=100000,kappa=0.5):\n",
    "    '''\n",
    "    Return the surface Green's function at energy E \n",
    "   \n",
    "    eta is used to calculated the Green's function\n",
    "    eps controls the accuracy\n",
    "    \n",
    "    Returns the surface Green's function as a solution of the recursive relation \n",
    "    g = ((E + 1j*eta) - alpha - beta'*g*beta)^-1\n",
    "    '''\n",
    "    # conv here to avoid problems later\n",
    "    E = np.array(E)\n",
    "    \n",
    "    \n",
    "    def func_g(g,E,alpha,beta,eta):\n",
    "        return np.linalg.inv((E + 1j*eta).reshape(-1,1,1)*np.eye(alpha.shape[0])- alpha - beta @ g @ np.conj(beta).T)\n",
    "   \n",
    "    g0 = np.zeros((len(E),alpha.shape[0],alpha.shape[1]))\n",
    "    g = np.zeros((len(E),alpha.shape[0],alpha.shape[1]))\n",
    "    \n",
    "    err_vec = []\n",
    "    for i in range(max_iter):\n",
    "        g = func_g(g,E,alpha,beta,eta)\n",
    "        g = ((1-kappa)*g + kappa*g0)\n",
    "        err = np.linalg.norm(g - g0)/len(E)\n",
    "        err_vec.append(err)\n",
    "        g0 = np.copy(g)\n",
    "        if err < eps:\n",
    "            break\n",
    "    return g"
   ]
  },
  {
   "cell_type": "code",
   "execution_count": 42,
   "metadata": {},
   "outputs": [
    {
     "data": {
      "text/plain": [
       "<matplotlib.text.Text at 0x108a7a5f8>"
      ]
     },
     "execution_count": 42,
     "metadata": {},
     "output_type": "execute_result"
    },
    {
     "data": {
      "image/png": "[encoded data removed]",
      "text/plain": [
       "<matplotlib.figure.Figure at 0x107e82080>"
      ]
     },
     "metadata": {},
     "output_type": "display_data"
    }
   ],
   "source": [
    "# testing the surface_g code\n",
    "# test of the Hamiltonian function\n",
    "params = {\n",
    "    \"N_z\" : 10,\n",
    "    \"N_phi\" : 1,\n",
    "    \"flux\" : 0e0,\n",
    "    \"t_z\" : 1000e-3,\n",
    "    \"Delta\" : 1e-3,\n",
    "    \"mu\" : 100e-3,\n",
    "}\n",
    "\n",
    "params[\"t_phi\"] = 0e-3*np.exp(1j*2*np.pi*params[\"flux\"]/params[\"N_phi\"])\n",
    "\n",
    "\n",
    "H = calc_hamiltonian(params)\n",
    "surface_dof = 2*params['N_phi']\n",
    "alpha = H[:surface_dof,:surface_dof]\n",
    "beta = H[:surface_dof,surface_dof:2*surface_dof]\n",
    "\n",
    "E = np.linspace(-20e-3,20e-3,1000)\n",
    "eta = 0.1*np.abs(E[1]-E[0])\n",
    "g = calc_surface_g(E,alpha,beta,eta)\n",
    "a = 1j*(g - np.conj(np.transpose(g,(0,2,1))))\n",
    "dos = np.real(np.trace(a,axis1=-1,axis2=-2))\n",
    "\n",
    "plt.plot(E,dos)\n",
    "plt.xlabel(\"Energy\")\n",
    "plt.ylabel(\"Surface Density of States\")"
   ]
  },
  {
   "cell_type": "code",
   "execution_count": 23,
   "metadata": {
    "collapsed": true
   },
   "outputs": [],
   "source": [
    "def calc_sns_negf(params):\n",
    "    '''\n",
    "    Returns the G,A,Sigma matrices for SNS device. The chemical potential will be assumed to same everywhere and\n",
    "    no bias is present across the device.\n",
    "    params dict takes in these parameters:\n",
    "        N_z : number of points along z in the normal region\n",
    "        N_phi : number of points along azimuthal direction\n",
    "        t_z : h^2/(2 m a^2), where a is lattice spacing\n",
    "        t_phi : h^2/(2 m R^2), where a is lattice spacing\n",
    "        mu : chemical potential\n",
    "        Delta_1 : superconducting parameter 1\n",
    "        Delta_2 : superconducting parameter 2\n",
    "        eta : imaginary 0+ added for convergence\n",
    "    '''\n",
    "    N_z = params['N_z']\n",
    "    N_phi = params['N_phi']\n",
    "    t_z = params['t_z']\n",
    "    t_phi = params['t_phi']\n",
    "    Delta_1 = params['Delta_1']\n",
    "    Delta_2 = params['Delta_2']\n",
    "    mu = params['mu']\n",
    "    eta = params['eta']\n",
    "    \n",
    "    # create alpha/beta hamiltonians for S regions\n",
    "    # calc surface Green's function\n",
    "   \n",
    "    params_S1 = {'t_z' : t_z,'t_phi' : t_phi,'N_z' : N_z,\"N_phi\" : N_phi, \"Delta\" : Delta_1, \" mu\" : mu,\"flux\" : flux}\n",
    "    H_S1 = calc_hamiltonian(params_S1)   \n",
    "    surface_dof = 2*N_phi\n",
    "    alpha_1 = H_S1[:surface_dof,:surface_dof]\n",
    "    beta_1 = H_S1[:surface_dof,surface_dof:2*surface_dof]\n",
    "    g_1 = calc_surface_g(E,alpha_1,beta_1,eta)\n",
    "    \n",
    "    params_S2 = {'t_z' : t_z,'t_phi' : t_phi,'N_z' : N_z,\"N_phi\" : N_phi, \"Delta\" : Delta_2, \" mu\" : mu,\"flux\" : flux}\n",
    "    H_S2 = calc_hamiltonian(params_S2)   \n",
    "    surface_dof = 2*N_phi\n",
    "    alpha_2 = H_S2[:surface_dof,:surface_dof]\n",
    "    beta_2 = H_S2[:surface_dof,surface_dof:2*surface_dof]\n",
    "    g_2 = calc_surface_g(E,alpha_2,beta_2,eta)\n",
    "    \n",
    "    \n",
    "    # create Hamiltonian for N region\n",
    "    params_N = {'t_z' : t_z,'t_phi' : t_phi,'N_z' : N_z,\"N_phi\" : N_phi, \"Delta\" : 0, \" mu\" : mu,\"flux\" : flux}\n",
    "    H_mat = calc_hamiltonian(params_N)\n",
    "    \n",
    "    #number of dof in a layer\n",
    "    N_dof_lat = N_phi*2\n",
    "    # the hopping element between layers\n",
    "    beta_layer = H_mat[:N_dof_lat,N_dof_lat:2*N_dof_lat]\n",
    "    \n",
    "    # the only non-zero elements in sigma\n",
    "    sigma_mini_1 = np.conj(np.transpose(beta_layer[np.newaxis,:,:],(0,2,1)))@g_1@beta_layer\n",
    "    sigma_mini_2 = np.conj(np.transpose(beta_layer[np.newaxis,:,:],(0,2,1)))@g_2@beta_layer\n",
    "    \n",
    "    sigma_1 = np.zeros((len(E),H_mat.shape[0],H_mat.shape[1]),dtype=np.complex64)\n",
    "    sigma_1[:,:N_dof_lat,:N_dof_lat] = sigma_mini_1\n",
    "    \n",
    "    sigma_2 = np.zeros((len(E),H_mat.shape[0],H_mat.shape[1]),dtype=np.complex64)\n",
    "    sigma_2[:,-N_dof_lat:,-N_dof_lat:] = sigma_mini_2\n",
    "    \n",
    "    # NEGF matrices\n",
    "    G = np.linalg.inv((E + 1j*eta).reshape(-1,1,1)*np.eye(H_mat.shape[0]) - H_mat - sigma_1 - sigma_2)\n",
    "    \n",
    "    A = 1j*(G - np.transpose(np.conj(G),(0,2,1))) \n",
    "    dos = np.real(np.trace(A,axis1=-2,axis=-1))\n",
    "    \n",
    "    return G,A,dos"
   ]
  },
  {
   "cell_type": "code",
   "execution_count": null,
   "metadata": {
    "collapsed": true
   },
   "outputs": [],
   "source": [
    "# testing the dos code\n",
    "params = {\n",
    "    \"N_z\" : 2,\n",
    "    \"N_phi\" : 1,\n",
    "    \"flux\" : 0e0,\n",
    "    \"t_z\" : 5e-3,\n",
    "    \"Delta\" : 1e-3,\n",
    "    \"mu\" : 0e-3,\n",
    "}\n",
    "\n",
    "params[\"t_phi\"] = 1e-3*np.exp(1j*2*np.pi*params[\"flux\"]/params[\"N_phi\"])"
   ]
  },
  {
   "cell_type": "markdown",
   "metadata": {},
   "source": [
    "# Notes\n",
    " - I am unsure how to incorporate the flux term in the diagonal element.\n",
    " \n",
    " \n",
    " Next step: Look at the spectrum!"
   ]
  },
  {
   "cell_type": "markdown",
   "metadata": {
    "collapsed": true
   },
   "source": [
    "# Intersting Asides\n",
    "1. Visualisation of surface density of states in $\\mu$-$\\Delta$ space. "
   ]
  },
  {
   "cell_type": "code",
   "execution_count": null,
   "metadata": {
    "collapsed": true
   },
   "outputs": [],
   "source": [
    "params = {\n",
    "    \"N_z\" : 10,\n",
    "    \"N_phi\" : 1,\n",
    "    \"flux\" : 0e0,\n",
    "    \"t_z\" : 1000e-3,\n",
    "    \"Delta\" : 1e-3,\n",
    "    \"mu\" : 100e-3,\n",
    "}\n",
    "\n",
    "params[\"t_phi\"] = 0e-3*np.exp(1j*2*np.pi*params[\"flux\"]/params[\"N_phi\"])\n",
    "\n",
    "E = np.linspace(-10e-3,10e-3,1000)\n",
    "eta = 0.1*np.abs(E[1]-E[0])\n",
    "\n",
    "mu_vec = np.linspace(0,100e-3,25) \n",
    "data = []\n",
    "for mu in mu_vec:\n",
    "    params['mu'] = mu\n",
    "    \n",
    "    H = calc_hamiltonian(params)\n",
    "    surface_dof = 2*params['N_phi']\n",
    "    alpha = H[:surface_dof,:surface_dof]\n",
    "    beta = H[:surface_dof,surface_dof:2*surface_dof]\n",
    "    \n",
    "    g = calc_surface_g(E,alpha,beta,eta)\n",
    "    a = 1j*(g - np.conj(np.transpose(g,(0,2,1))))\n",
    "    dos = np.real(np.trace(a,axis1=-1,axis2=-2))\n",
    "\n",
    "    data.append(dos)\n",
    "data = np.array(data)"
   ]
  },
  {
   "cell_type": "code",
   "execution_count": null,
   "metadata": {},
   "outputs": [],
   "source": [
    "XX,YY = np.meshgrid(E,mu_vec)\n",
    "plt.pcolor(XX,YY,data)\n",
    "plt.xlabel(\"Energy\")\n",
    "plt.ylabel(\"Chemical potential\")"
   ]
  },
  {
   "cell_type": "code",
   "execution_count": null,
   "metadata": {
    "collapsed": true
   },
   "outputs": [],
   "source": []
  }
 ],
 "metadata": {
  "kernelspec": {
   "display_name": "Python 3",
   "language": "python",
   "name": "python3"
  },
  "language_info": {
   "codemirror_mode": {
    "name": "ipython",
    "version": 3
   },
   "file_extension": ".py",
   "mimetype": "text/x-python",
   "name": "python",
   "nbconvert_exporter": "python",
   "pygments_lexer": "ipython3",
   "version": "3.5.2"
  }
 },
 "nbformat": 4,
 "nbformat_minor": 2
}
