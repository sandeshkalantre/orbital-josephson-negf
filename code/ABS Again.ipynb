{
 "cells": [
  {
   "cell_type": "markdown",
   "metadata": {},
   "source": [
    "# ABS Again\n",
    "There seems to be a discrepancy in the current calculation by NEGF and the current calculated via the thermodynamic\n",
    "relation $\\frac{dE}{d\\phi}$. I plan to investigate this in this notebook."
   ]
  },
  {
   "cell_type": "code",
   "execution_count": 1,
   "metadata": {},
   "outputs": [],
   "source": [
    "import numpy as np\n",
    "import matplotlib.pyplot as plt\n",
    "%matplotlib inline\n",
    "\n",
    "import itertools\n",
    "import scipy.special\n",
    "import scipy.integrate"
   ]
  },
  {
   "cell_type": "code",
   "execution_count": 3,
   "metadata": {},
   "outputs": [],
   "source": [
    "# create the Hamiltonian matrix\n",
    "\n",
    "def calc_hamiltonian(params):\n",
    "    '''\n",
    "    Returns the Hamiltonian in the real space basis.\n",
    "    params is a dict with the following information:\n",
    "        N_z : number of points along z\n",
    "        N_phi : number of points along azimuthal direction\n",
    "        t_z : h^2/(2 m a^2), where a is lattice spacing\n",
    "        t_phi : h^2/(2 m R^2), where a is lattice spacing\n",
    "        mu : chemical potential\n",
    "    '''\n",
    "    N_z = params['N_z']\n",
    "    N_phi = params['N_phi']\n",
    "    t_z = params['t_z']\n",
    "    t_phi = params['t_phi']\n",
    "    mu = params['mu']\n",
    "    flux = params['flux']\n",
    "    Delta = params['Delta']\n",
    "    \n",
    "    def calc_matrix_element(x,y):\n",
    "        '''\n",
    "        Returns the matrix element between two real space points x and y\n",
    "        '''\n",
    "        (z1,phi1) = x\n",
    "        (z2,phi2) = y\n",
    "        # onsite element\n",
    "        if z1 == z2 and phi1 == phi2:\n",
    "            #diag_ele = 2*t_z + np.abs(t_phi)*(2 + (2*np.pi*flux/N_phi)**2) - mu\n",
    "            diag_ele = 2*t_z + np.abs(t_phi)*(2 + flux**2) - mu\n",
    "            #if N_phi != 1:\n",
    "            #    diag_ele = 2*t_z + np.abs(t_phi)*(2 + (2*np.pi*flux/N_phi)**2) - mu\n",
    "            #else:\n",
    "            #    # diagonal elemenet for N_phi = 1 does not make sense\n",
    "            #    diag_ele = 2*t_z - mu\n",
    "            return np.array([[diag_ele,Delta],[np.conj(Delta),-diag_ele ]])\n",
    "        # z hopping\n",
    "        elif abs(z1-z2) == 1 and phi1 == phi2:\n",
    "            return np.array([[-t_z,0],[0,t_z]])\n",
    "        # phi hopping\n",
    "        elif (phi1-phi2 == 1 or phi1-phi2 == N_phi-1)and z1 == z2:\n",
    "            return np.array([[-t_phi,0],[0,np.conj(t_phi)]])\n",
    "        elif (phi1-phi2 == -1 or phi1-phi2 == -N_phi+1)and z1 == z2:\n",
    "            return np.conj(np.array([[-t_phi,0],[0,np.conj(t_phi)]])).T\n",
    "        else:\n",
    "            return np.array([[0,0],[0,0]])\n",
    "    \n",
    "    basis = list(itertools.product(range(N_z),range(N_phi)))\n",
    "    H_list = [calc_matrix_element(x,y) for x in basis for y in basis]\n",
    "    N = N_phi*N_z\n",
    "    H = np.array(H_list).reshape((N,N,2,2))\n",
    "    \n",
    "    # magic to flatten the Hamiltonian\n",
    "    # Are you wathing closely?\n",
    "    H = np.array([H[x,:,y,:].flatten() for x in range(H.shape[0]) for y in range(H.shape[2])])\\\n",
    "    .flatten().reshape(2*N,2*N)\n",
    "    \n",
    "    return H\n",
    "\n",
    "# surface Green's funciton routines\n",
    "# ordinary iteration schemes will be used\n",
    "\n",
    "def calc_surface_g(E,alpha,beta,eta,eps = 1e-8,max_iter=100000,kappa=0.5):\n",
    "    '''\n",
    "    Return the surface Green's function at energy E \n",
    "   \n",
    "    eta is used to calculated the Green's function\n",
    "    eps controls the accuracy\n",
    "    \n",
    "    Returns the surface Green's function as a solution of the recursive relation \n",
    "    g = ((E + 1j*eta) - alpha - beta'*g*beta)^-1\n",
    "    '''\n",
    "    # conv here to avoid problems later\n",
    "    E = np.array(E)\n",
    "    \n",
    "    \n",
    "    def func_g(g,E,alpha,beta,eta):\n",
    "        return np.linalg.inv((E + 1j*eta).reshape(-1,1,1)*np.eye(alpha.shape[0])- alpha - beta @ g @ np.conj(beta).T)\n",
    "   \n",
    "    g0 = np.zeros((len(E),alpha.shape[0],alpha.shape[1]))\n",
    "    g = np.zeros((len(E),alpha.shape[0],alpha.shape[1]))\n",
    "    \n",
    "    err_vec = []\n",
    "    for i in range(max_iter):\n",
    "        g = func_g(g,E,alpha,beta,eta)\n",
    "        g = ((1-kappa)*g + kappa*g0)\n",
    "        err = np.linalg.norm(g - g0)/len(E)\n",
    "        err_vec.append(err)\n",
    "        g0 = np.copy(g)\n",
    "        if err < eps:\n",
    "            break\n",
    "    return g\n",
    "\n",
    "def calc_sns_negf(E,params):\n",
    "    '''\n",
    "    Returns the G,A,Sigma matrices for SNS device. The chemical potential will be assumed to same everywhere and\n",
    "    no bias is present across the device.\n",
    "    params dict takes in these parameters:\n",
    "        N_z : number of points along z in the normal region\n",
    "        N_phi : number of points along azimuthal direction\n",
    "        t_z : h^2/(2 m a^2), where a is lattice spacing\n",
    "        t_phi : h^2/(2 m R^2), where a is lattice spacing\n",
    "        mu : chemical potential\n",
    "        Delta_1 : superconducting parameter 1\n",
    "        Delta_2 : superconducting parameter 2\n",
    "        eta : imaginary 0+ added for convergence\n",
    "    '''\n",
    "    N_z = params['N_z']\n",
    "    N_phi = params['N_phi']\n",
    "    t_z = params['t_z']\n",
    "    t_phi = params['t_phi']\n",
    "    Delta_1 = params['Delta_1']\n",
    "    Delta_2 = params['Delta_2']\n",
    "    mu = params['mu']\n",
    "    eta = params['eta']\n",
    "    flux = params['flux']\n",
    "    kT = params['kT']\n",
    "    \n",
    "    # create alpha/beta hamiltonians for S regions\n",
    "    # calc surface Green's function\n",
    "   \n",
    "    params_S1 = {'t_z' : t_z,'t_phi' : t_phi,'N_z' : N_z,\"N_phi\" : N_phi, \"Delta\" : Delta_1, \"mu\" : mu,\"flux\" : flux}\n",
    "    H_S1 = calc_hamiltonian(params_S1)   \n",
    "    surface_dof = 2*N_phi\n",
    "    alpha_1 = H_S1[:surface_dof,:surface_dof]\n",
    "    beta_1 = H_S1[:surface_dof,surface_dof:2*surface_dof]\n",
    "    g_1 = calc_surface_g(E,alpha_1,beta_1,eta)\n",
    "    \n",
    "    params_S2 = {'t_z' : t_z,'t_phi' : t_phi,'N_z' : N_z,\"N_phi\" : N_phi, \"Delta\" : Delta_2, \"mu\" : mu,\"flux\" : flux}\n",
    "    H_S2 = calc_hamiltonian(params_S2)   \n",
    "    surface_dof = 2*N_phi\n",
    "    alpha_2 = H_S2[:surface_dof,:surface_dof]\n",
    "    beta_2 = H_S2[:surface_dof,surface_dof:2*surface_dof]\n",
    "    g_2 = calc_surface_g(E,alpha_2,beta_2,eta)\n",
    "    \n",
    "    \n",
    "    # create Hamiltonian for N region\n",
    "    params_N = {'t_z' : t_z,'t_phi' : t_phi,'N_z' : N_z,\"N_phi\" : N_phi, \"Delta\" : 0, \"mu\" : mu,\"flux\" : flux}\n",
    "    H_mat = calc_hamiltonian(params_N)\n",
    "    \n",
    "    #number of dof in a layer\n",
    "    N_dof_lat = N_phi*2\n",
    "    # the hopping element between layers\n",
    "    beta_layer = H_mat[:N_dof_lat,N_dof_lat:2*N_dof_lat]\n",
    "    \n",
    "    # the only non-zero elements in sigma\n",
    "    sigma_mini_1 = np.conj(np.transpose(beta_layer[np.newaxis,:,:],(0,2,1)))@g_1@beta_layer\n",
    "    sigma_mini_2 = np.conj(np.transpose(beta_layer[np.newaxis,:,:],(0,2,1)))@g_2@beta_layer\n",
    "    \n",
    "    sigma_1 = np.zeros((len(E),H_mat.shape[0],H_mat.shape[1]),dtype=np.complex64)\n",
    "    sigma_1[:,:N_dof_lat,:N_dof_lat] = sigma_mini_1\n",
    "    gamma_1 = 1j*(sigma_1 - np.transpose(np.conj(sigma_1),(0,2,1)))\n",
    "    \n",
    "    sigma_2 = np.zeros((len(E),H_mat.shape[0],H_mat.shape[1]),dtype=np.complex64)\n",
    "    sigma_2[:,-N_dof_lat:,-N_dof_lat:] = sigma_mini_2\n",
    "    gamma_2 = 1j*(sigma_2 - np.transpose(np.conj(sigma_2),(0,2,1)))\n",
    "    \n",
    "    # NEGF matrices\n",
    "    G = np.linalg.inv((E + 1j*eta).reshape(-1,1,1)*np.eye(H_mat.shape[0]) - H_mat - sigma_1 - sigma_2)\n",
    "    \n",
    "    A = 1j*(G - np.transpose(np.conj(G),(0,2,1))) \n",
    "    dos = np.real(np.trace(A,axis1=-2,axis2=-1))\n",
    "    \n",
    "    def fermi(E,kT):\n",
    "        return scipy.special.expit(-E/kT)\n",
    "    \n",
    "    def generate_fermi_matrix(E,mu,kT):\n",
    "        return np.array([[[fermi(ele - mu,kT),0],[0,fermi(ele + mu,kT)]] for ele in E])\n",
    "        \n",
    "    F1 = np.kron(np.eye(N_phi*N_z),generate_fermi_matrix(E,mu-mu,kT))\n",
    "    F2 = np.kron(np.eye(N_phi*N_z),generate_fermi_matrix(E,mu-mu,kT))\n",
    "    sigma_in = np.matmul(gamma_1,F1) + np.matmul(gamma_2,F2)\n",
    "    \n",
    "    G_n = np.matmul(G,np.matmul(sigma_in,np.transpose(np.conj(G),(0,2,1))))\n",
    "    dos = np.real(np.trace(G_n,axis1=-2,axis2=-1))\n",
    "    \n",
    "    #I_mat = 1j*(np.matmul(G_n[:N_dof_lat,N_dof_lat:2*N_dof_lat],beta_layer) \\\n",
    "    #         - np.matmul(G_n[N_dof_lat:2*N_dof_lat,:N_dof_lat],beta_layer))\n",
    "    I_mat = 1j*(np.matmul(H_mat,G_n) - np.matmul(G_n,H_mat))\n",
    "    # current = electron current - hole current\n",
    "    I = np.real(np.trace(I_mat[:,0:2*N_phi:2,0:2*N_phi:2]-I_mat[:,1:2*N_phi:2,1:2*N_phi:2],axis1=-1,axis2=-2))\n",
    "    \n",
    "    return G,A,dos,I\n",
    "\n",
    "def integrate_current(E_vec,I_vec):\n",
    "    return scipy.integrate.simps(I_vec,E_vec) \n",
    "\n",
    "def calc_I_phi(params,E_vec,phi_vec):\n",
    "    I_phi = []\n",
    "    for phi in phi_vec:\n",
    "        params['Delta_2'] = params['Delta_1']*np.exp(1j*phi)\n",
    "        G,A,dos,I = calc_sns_negf(E_vec,params)\n",
    "        I_phi.append(integrate_current(E_vec,I))\n",
    "    I_phi = np.array(I_phi)\n",
    "    return I_phi\n",
    "\n",
    "def calc_E_phi(params,E_vec,phi_vec):\n",
    "    '''\n",
    "    Returns the spectrum E(phi) for a single ABS\n",
    "    '''\n",
    "    E_phi = []\n",
    "    for phi in phi_vec:\n",
    "        params['Delta_2'] = params['Delta_1']*np.exp(1j*phi)\n",
    "        G,A,dos,I = calc_sns_negf(E_vec,params)\n",
    "        E_phi.append(E_vec[np.argmax(dos)])\n",
    "    E_phi = np.array(E_phi)\n",
    "    return E_phi\n",
    "\n",
    "def calc_both_I_E_phi(params,E_vec,phi_vec):\n",
    "    I_phi = []\n",
    "    E_phi = []\n",
    "    for phi in phi_vec:\n",
    "        params['Delta_2'] = params['Delta_1']*np.exp(1j*phi)\n",
    "        G,A,dos,I = calc_sns_negf(E_vec,params)\n",
    "        I_phi.append(integrate_current(E_vec,I))\n",
    "        E_phi.append(E_vec[np.argmax(dos)])\n",
    "    E_phi = np.array(E_phi)\n",
    "    I_phi = np.array(I_phi)\n",
    "    \n",
    "    I_grad_phi = 4*np.pi*np.gradient(E_phi,phi_vec)\n",
    "    return I_phi,I_grad_phi "
   ]
  },
  {
   "cell_type": "markdown",
   "metadata": {},
   "source": [
    "# Current-Phase with Current Operator"
   ]
  },
  {
   "cell_type": "code",
   "execution_count": 32,
   "metadata": {},
   "outputs": [],
   "source": [
    "params = {\n",
    "    \"N_z\" : 40,\n",
    "    \"N_phi\" : 1,\n",
    "    \"flux\" : 0,\n",
    "    \"t_z\" : 160e-3,\n",
    "    \"Delta_1\" : 1e-3,\n",
    "    \"Delta_2\" : 1e-3,\n",
    "    \"mu\" : 60e-3,\n",
    "    \"kT\" : 1e-6,\n",
    "}\n",
    "params[\"t_phi\"] = 0e-3*np.exp(1j*2*np.pi*params[\"flux\"]/params[\"N_phi\"])\n",
    "\n",
    "E_vec = np.linspace(-1e-3,1e-3,100)\n",
    "#phi_vec = np.linspace(np.pi-0.5,np.pi+0.5,100)\n",
    "phi_vec = np.linspace(-np.pi,np.pi,100)\n",
    "params['eta'] = np.abs(E_vec[1] - E_vec[0])\n",
    "\n",
    "I_phi = calc_I_phi(params,E_vec,phi_vec)"
   ]
  },
  {
   "cell_type": "code",
   "execution_count": 33,
   "metadata": {},
   "outputs": [
    {
     "data": {
      "text/plain": [
       "[<matplotlib.lines.Line2D at 0x11509a320>]"
      ]
     },
     "execution_count": 33,
     "metadata": {},
     "output_type": "execute_result"
    },
    {
     "data": {
      "image/png": "[encoded data removed]",
      "text/plain": [
       "<Figure size 432x288 with 1 Axes>"
      ]
     },
     "metadata": {},
     "output_type": "display_data"
    }
   ],
   "source": [
    "plt.plot(phi_vec,I_phi)"
   ]
  },
  {
   "cell_type": "markdown",
   "metadata": {},
   "source": [
    "# E($\\phi$) relation"
   ]
  },
  {
   "cell_type": "code",
   "execution_count": 34,
   "metadata": {},
   "outputs": [],
   "source": [
    "E_vec = np.linspace(-1e-3,1e-3,1000)\n",
    "params['eta'] = np.abs(E_vec[1] - E_vec[0])\n",
    "\n",
    "E_phi = calc_E_phi(params,E_vec,phi_vec)"
   ]
  },
  {
   "cell_type": "code",
   "execution_count": 35,
   "metadata": {},
   "outputs": [
    {
     "data": {
      "text/plain": [
       "[<matplotlib.lines.Line2D at 0x114ec0fd0>]"
      ]
     },
     "execution_count": 35,
     "metadata": {},
     "output_type": "execute_result"
    },
    {
     "data": {
      "image/png": "[encoded data removed]",
      "text/plain": [
       "<Figure size 432x288 with 1 Axes>"
      ]
     },
     "metadata": {},
     "output_type": "display_data"
    }
   ],
   "source": [
    "plt.plot(phi_vec,E_phi)"
   ]
  },
  {
   "cell_type": "code",
   "execution_count": 36,
   "metadata": {},
   "outputs": [
    {
     "data": {
      "text/plain": [
       "[<matplotlib.lines.Line2D at 0x116039668>]"
      ]
     },
     "execution_count": 36,
     "metadata": {},
     "output_type": "execute_result"
    },
    {
     "data": {
      "image/png": "[encoded data removed]",
      "text/plain": [
       "<Figure size 432x288 with 1 Axes>"
      ]
     },
     "metadata": {},
     "output_type": "display_data"
    }
   ],
   "source": [
    "I_grad = np.gradient(E_phi,phi_vec)\n",
    "plt.plot(phi_vec,I_grad)"
   ]
  },
  {
   "cell_type": "markdown",
   "metadata": {},
   "source": [
    "# Comparison"
   ]
  },
  {
   "cell_type": "code",
   "execution_count": 37,
   "metadata": {},
   "outputs": [
    {
     "data": {
      "text/plain": [
       "<matplotlib.legend.Legend at 0x115168c50>"
      ]
     },
     "execution_count": 37,
     "metadata": {},
     "output_type": "execute_result"
    },
    {
     "data": {
      "image/png": "[encoded data removed]",
      "text/plain": [
       "<Figure size 432x288 with 1 Axes>"
      ]
     },
     "metadata": {},
     "output_type": "display_data"
    }
   ],
   "source": [
    "plt.plot(phi_vec,I_phi,label=\"Current Operator\")\n",
    "plt.plot(phi_vec,2*I_grad*2*np.pi,label=r\"$\\frac{dE}{d\\phi}$\")\n",
    "#plt.plot(phi_vec,2*np.pi*1e-3*np.sin(phi_vec/2))\n",
    "plt.legend()"
   ]
  },
  {
   "cell_type": "code",
   "execution_count": 38,
   "metadata": {},
   "outputs": [
    {
     "data": {
      "text/plain": [
       "[<matplotlib.lines.Line2D at 0x1151dff28>]"
      ]
     },
     "execution_count": 38,
     "metadata": {},
     "output_type": "execute_result"
    },
    {
     "data": {
      "image/png": "[encoded data removed]",
      "text/plain": [
       "<Figure size 432x288 with 1 Axes>"
      ]
     },
     "metadata": {},
     "output_type": "display_data"
    }
   ],
   "source": [
    "plt.plot(phi_vec,I_phi - 4*np.pi*I_grad)"
   ]
  },
  {
   "cell_type": "code",
   "execution_count": null,
   "metadata": {},
   "outputs": [],
   "source": []
  },
  {
   "cell_type": "code",
   "execution_count": null,
   "metadata": {},
   "outputs": [],
   "source": []
  }
 ],
 "metadata": {
  "kernelspec": {
   "display_name": "Python 3",
   "language": "python",
   "name": "python3"
  },
  "language_info": {
   "codemirror_mode": {
    "name": "ipython",
    "version": 3
   },
   "file_extension": ".py",
   "mimetype": "text/x-python",
   "name": "python",
   "nbconvert_exporter": "python",
   "pygments_lexer": "ipython3",
   "version": "3.6.5"
  }
 },
 "nbformat": 4,
 "nbformat_minor": 2
}
